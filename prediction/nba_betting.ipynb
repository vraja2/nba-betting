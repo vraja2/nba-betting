{
 "cells": [
  {
   "cell_type": "code",
   "execution_count": 4,
   "metadata": {
    "collapsed": true
   },
   "outputs": [],
   "source": [
    "import datetime\n",
    "import json\n",
    "import numpy as np\n",
    "import pickle\n",
    "from sklearn import linear_model\n",
    "from collections import defaultdict\n",
    "from collections import OrderedDict"
   ]
  },
  {
   "cell_type": "code",
   "execution_count": 5,
   "metadata": {
    "collapsed": false
   },
   "outputs": [],
   "source": [
    "f = open('prediction/all_boxscores_2000_2017.json')\n",
    "boxscore_data = json.load(f)"
   ]
  },
  {
   "cell_type": "code",
   "execution_count": 6,
   "metadata": {
    "collapsed": true
   },
   "outputs": [],
   "source": [
    "boxscore_data_ordered_by_key = OrderedDict(sorted(boxscore_data.items()))"
   ]
  },
  {
   "cell_type": "code",
   "execution_count": 7,
   "metadata": {
    "collapsed": false
   },
   "outputs": [],
   "source": [
    "# build running averages of stats in a season for a team\n",
    "# team-ID -> season -> team's game ID -> stat_type -> average (inclusive of current game)\n",
    "team_boxscore_rolling_averages = defaultdict(lambda: defaultdict(lambda: defaultdict(dict)))\n",
    "\n",
    "boxscore_categories = ['boxscoretraditionalv2', 'boxscoreadvancedv2', 'boxscoremiscv2', 'boxscorescoringv2',\n",
    "                       'boxscoreusagev2', 'boxscorefourfactorsv2', 'boxscoreplayertrackv2', 'hustlestatsboxscore',\n",
    "                       'boxscoresummaryv2']\n",
    "\n",
    "def prune_team_stats(team_stats):\n",
    "  pruned_team_stats = []\n",
    "  stat_name_index_tuples = [\n",
    "    ('FGM', 6),\n",
    "    ('FGA', 7),\n",
    "    ('FG_PCT', 8),\n",
    "    ('FG3M', 9),\n",
    "    ('FG3A', 10),\n",
    "    ('FG3_PCT', 11),\n",
    "    ('FTM', 12),\n",
    "    ('FTA', 13),\n",
    "    ('FT_PCT', 14),\n",
    "    ('OREB', 15),\n",
    "    ('DREB', 16),\n",
    "    ('REB', 17),\n",
    "    ('AST', 18),\n",
    "    ('STL', 19),\n",
    "    ('BLK', 20),\n",
    "    ('TO', 21),\n",
    "    ('PF', 22),\n",
    "    ('PTS', 23),\n",
    "    ('PLUS_MINUS', 24)\n",
    "  ]\n",
    "  \n",
    "  for stat_name_index_tuple in stat_name_index_tuples:\n",
    "    pruned_team_stats.append(team_stats[stat_name_index_tuple[1]])\n",
    "  \n",
    "  return np.asarray(pruned_team_stats)\n",
    "\n",
    "def prune_starter_bench_stats(team_starter_bench_stats):\n",
    "  pruned_team_starter_bench_stats = []\n",
    "  stat_name_index_tuples = [\n",
    "    ('FGM', 7),\n",
    "    ('FGA', 8),\n",
    "    ('FG_PCT', 9),\n",
    "    ('FG3M', 10),\n",
    "    ('FG3A', 11),\n",
    "    ('FG3_PCT', 12),\n",
    "    ('FTM', 13),\n",
    "    ('FTA', 14),\n",
    "    ('FT_PCT', 15),\n",
    "    ('OREB', 16),\n",
    "    ('DREB', 17),\n",
    "    ('REB', 18),\n",
    "    ('AST', 19),\n",
    "    ('STL', 20),\n",
    "    ('BLK', 21),\n",
    "    ('TO', 22),\n",
    "    ('PF', 23),\n",
    "    ('PTS', 24),\n",
    "  ]\n",
    "  \n",
    "  for stat_name_index_tuple in stat_name_index_tuples:\n",
    "    pruned_team_starter_bench_stats.append(team_starter_bench_stats[stat_name_index_tuple[1]])\n",
    "  \n",
    "  return np.asarray(pruned_team_starter_bench_stats)\n",
    "\n",
    "# maintains state about how many games were played by a team in a season, reset every season\n",
    "# TEAM_ID -> num games played\n",
    "team_games_played_dict = defaultdict(lambda: 1)\n",
    "prev_game_id_dict = defaultdict(str)\n",
    "\n",
    "# team_id -> game_id -> previous game ID\n",
    "game_sequence_dict = defaultdict(lambda: defaultdict(str))\n",
    "\n",
    "game_ids_by_season = defaultdict(list)\n",
    "\n",
    "home_away_team_indices_by_game_id = {}\n",
    "\n",
    "prev_game_num = None\n",
    "prev_game_id = None\n",
    "for json_file_name, data in boxscore_data_ordered_by_key.iteritems():\n",
    "  game_id = json_file_name.split('.')[0]\n",
    "  game_num = game_id[-4:]\n",
    "  season = game_id[3:5]\n",
    "  if game_num == '0001':\n",
    "    team_games_played_dict = defaultdict(lambda: 1)\n",
    "    prev_game_id_dict = defaultdict(str)\n",
    "  for boxscore_category in boxscore_categories:\n",
    "    category_data = boxscore_data[json_file_name][boxscore_category]\n",
    "    if boxscore_category == 'boxscoretraditionalv2':\n",
    "      if 'resultSets' in category_data:\n",
    "        data = category_data['resultSets']\n",
    "        if len(data[1]['rowSet']) == 0:\n",
    "          continue\n",
    "        boxscore_summary_data = boxscore_data[json_file_name]['boxscoresummaryv2']['resultSets'][0]['rowSet'][0]\n",
    "        game_ids_by_season[season].append(game_id)\n",
    "        home_team_id = boxscore_summary_data[6]\n",
    "        away_team_id = boxscore_summary_data[7]\n",
    "        away_team_idx = None\n",
    "        home_team_idx = None\n",
    "        if data[1]['rowSet'][0][1] == home_team_id:\n",
    "          away_team_idx = 1\n",
    "          home_team_idx = 0\n",
    "        else:\n",
    "          away_team_idx = 0\n",
    "          home_team_idx = 1\n",
    "        home_away_team_indices_by_game_id[game_id] = (away_team_idx, home_team_idx)\n",
    "        team_stats_away = data[1]['rowSet'][away_team_idx]\n",
    "        team_stats_home = data[1]['rowSet'][home_team_idx]\n",
    "        pruned_team_stats_away_features = prune_team_stats(team_stats_away)\n",
    "        pruned_team_stats_home_features = prune_team_stats(team_stats_home)\n",
    "        team_starter_stats_away = data[2]['rowSet'][0]\n",
    "        team_bench_stats_away = data[2]['rowSet'][1]\n",
    "        team_starter_stats_home = data[2]['rowSet'][2]\n",
    "        team_bench_stats_home = data[2]['rowSet'][3]\n",
    "        pruned_starter_stats_away = prune_starter_bench_stats(team_starter_stats_away)\n",
    "        pruned_bench_stats_away = prune_starter_bench_stats(team_bench_stats_away)\n",
    "        pruned_starter_stats_home = prune_starter_bench_stats(team_starter_stats_home)\n",
    "        pruned_bench_stats_home = prune_starter_bench_stats(team_bench_stats_away)\n",
    "        \n",
    "        if team_games_played_dict[away_team_id] == 1:\n",
    "          team_boxscore_rolling_averages[away_team_id][season][game_id]['team_stats'] = pruned_team_stats_away_features\n",
    "        else:\n",
    "          prev_game_num = team_games_played_dict[away_team_id] - 1\n",
    "          curr_game_num = team_games_played_dict[away_team_id]\n",
    "          prev_game_id = prev_game_id_dict[away_team_id]\n",
    "          game_sequence_dict[away_team_id][game_id] = prev_game_id\n",
    "          prev_away_team_stats = team_boxscore_rolling_averages[away_team_id][season][prev_game_id]['team_stats']\n",
    "          team_boxscore_rolling_averages[away_team_id][season][game_id]['team_stats'] = \\\n",
    "            prev_away_team_stats + \\\n",
    "            (pruned_team_stats_away_features - prev_away_team_stats)/curr_game_num\n",
    "        \n",
    "        prev_game_id_dict[away_team_id] = game_id\n",
    "        team_games_played_dict[away_team_id] += 1\n",
    "\n",
    "        if team_games_played_dict[home_team_id] == 1:\n",
    "          team_boxscore_rolling_averages[home_team_id][season][game_id]['team_stats'] = pruned_team_stats_home_features\n",
    "        else:\n",
    "          prev_game_num = team_games_played_dict[home_team_id] - 1\n",
    "          curr_game_num = team_games_played_dict[home_team_id]\n",
    "          prev_game_id = prev_game_id_dict[home_team_id]\n",
    "          game_sequence_dict[home_team_id][game_id] = prev_game_id\n",
    "          prev_home_team_stats = team_boxscore_rolling_averages[home_team_id][season][prev_game_id]['team_stats']\n",
    "          team_boxscore_rolling_averages[home_team_id][season][game_id]['team_stats'] = \\\n",
    "            prev_home_team_stats + \\\n",
    "            (pruned_team_stats_home_features - prev_home_team_stats)/curr_game_num\n",
    "        \n",
    "        prev_game_id_dict[home_team_id] = game_id\n",
    "        team_games_played_dict[home_team_id] += 1\n",
    "    else:\n",
    "      # ignore other categories for now\n",
    "      break"
   ]
  },
  {
   "cell_type": "code",
   "execution_count": 24,
   "metadata": {
    "collapsed": false
   },
   "outputs": [
    {
     "data": {
      "text/plain": [
       "array([  39.47560976,   87.41463415,    0.45214634,    8.43902439,\n         25.80487805,    0.32653659,   19.20731707,   25.76829268,\n          0.74769512,   12.2195122 ,   34.40243902,   46.62195122,\n         20.98780488,    7.90243902,    4.98780488,   14.63414634,\n         20.91463415,  106.59756098,    0.75609756])"
      ]
     },
     "execution_count": 24,
     "metadata": {},
     "output_type": "execute_result"
    }
   ],
   "source": [
    "# cumulative timeseries for the OKC Thunder in the 2016-17 season\n",
    "okc_ts = team_boxscore_rolling_averages[1610612760]['16']\n",
    "# rolling averages of stats over entire season (last element of timeseries)\n",
    "okc_ts['0021601225']['team_stats']\n",
    "\n",
    "# FGM, FGA, FG%, 3PM, 3PA, 3P%, FTM, FTA, FT%, OREB, DREB, REB, AST, STL, BLK, TOV, PF, PTS, PLUSMINUS"
   ]
  },
  {
   "cell_type": "code",
   "execution_count": 9,
   "metadata": {},
   "outputs": [],
   "source": [
    "# create labels for training/testing\n",
    "# delta is from the away team perspective (e.g if the away team loses by 5, delta = -5)\n",
    "game_id_score_delta_dict = {}\n",
    "for json_file_name, data in boxscore_data_ordered_by_key.iteritems():\n",
    "  game_id = json_file_name.split('.')[0]\n",
    "  category_data = boxscore_data[json_file_name]['boxscoretraditionalv2']\n",
    "  if 'resultSets' in category_data:\n",
    "    data = category_data['resultSets']\n",
    "    # first team in list is away, second is home\n",
    "    if len(data[1]['rowSet']) == 0:\n",
    "      continue\n",
    "    away_team_idx, home_team_idx = home_away_team_indices_by_game_id[game_id]\n",
    "    away_team_stats = data[1]['rowSet'][away_team_idx]\n",
    "    away_team_plus_minus = away_team_stats[24]\n",
    "    game_id_score_delta_dict[game_id] = away_team_plus_minus"
   ]
  },
  {
   "cell_type": "code",
   "execution_count": 10,
   "metadata": {},
   "outputs": [
    {
     "data": {
      "text/plain": [
       "1.0"
      ]
     },
     "execution_count": 10,
     "metadata": {},
     "output_type": "execute_result"
    }
   ],
   "source": [
    "# OKC beats Denver by 1 point in the final game of the 2016-17 season\n",
    "game_id_score_delta_dict['0021601198']"
   ]
  },
  {
   "cell_type": "code",
   "execution_count": 11,
   "metadata": {},
   "outputs": [],
   "source": [
    "# assemble feature vectors\n",
    "# away team features, home team features\n",
    "feature_vectors = []\n",
    "labels = []\n",
    "game_ids_for_feat_vectors = []\n",
    "for json_file_name, data in boxscore_data_ordered_by_key.iteritems():\n",
    "  feature_vector = []\n",
    "  game_id = json_file_name.split('.')[0]\n",
    "  game_num = game_id[-4:]\n",
    "  season = game_id[3:5]\n",
    "  \n",
    "  category_data = boxscore_data[json_file_name]['boxscoretraditionalv2']\n",
    "  if 'resultSets' in category_data:\n",
    "    data = category_data['resultSets']\n",
    "    if len(data[1]['rowSet']) == 0:\n",
    "      continue\n",
    "    away_team_idx, home_team_idx = home_away_team_indices_by_game_id[game_id]\n",
    "    away_team_id = data[1]['rowSet'][away_team_idx][1]\n",
    "    home_team_id = data[1]['rowSet'][home_team_idx][1]\n",
    "    \n",
    "    if game_sequence_dict[away_team_id][game_id] == \"\" or game_sequence_dict[home_team_id][game_id] == \"\":\n",
    "      continue\n",
    "    \n",
    "    # get previous game averages for both teams\n",
    "    prev_game_id_away = game_sequence_dict[away_team_id][game_id]\n",
    "    prev_game_id_home = game_sequence_dict[home_team_id][game_id]\n",
    "    away_stats_avg = team_boxscore_rolling_averages[away_team_id][season][prev_game_id_away]['team_stats']\n",
    "    home_stats_avg = team_boxscore_rolling_averages[home_team_id][season][prev_game_id_home]['team_stats']\n",
    "    game_ids_for_feat_vectors.append(game_id)\n",
    "    feature_vectors.append(np.append(away_stats_avg, home_stats_avg))\n",
    "    labels.append(game_id_score_delta_dict[game_id])\n",
    "\n",
    "feature_matrix = np.asarray(feature_vectors)\n",
    "labels = np.asarray(labels)"
   ]
  },
  {
   "cell_type": "code",
   "execution_count": 12,
   "metadata": {},
   "outputs": [
    {
     "data": {
      "text/plain": [
       "(20211, 38)"
      ]
     },
     "execution_count": 12,
     "metadata": {},
     "output_type": "execute_result"
    }
   ],
   "source": [
    "feature_matrix.shape"
   ]
  },
  {
   "cell_type": "code",
   "execution_count": 13,
   "metadata": {},
   "outputs": [
    {
     "data": {
      "text/plain": [
       "(20211,)"
      ]
     },
     "execution_count": 13,
     "metadata": {},
     "output_type": "execute_result"
    }
   ],
   "source": [
    "labels.shape"
   ]
  },
  {
   "cell_type": "code",
   "execution_count": 14,
   "metadata": {},
   "outputs": [
    {
     "name": "stdout",
     "output_type": "stream",
     "text": [
      "Feature vector and label for Game: 0020000015\n[  35.      93.       0.376    5.      17.       0.294   20.      31.\n    0.645   20.      28.      48.      27.       7.       7.      15.      21.\n   95.      -9.      38.      66.       0.576    3.       8.       0.375\n   22.      30.       0.733    8.      29.      37.      27.      10.       5.\n   13.      24.     101.      29.   ]\n-6.0\n"
     ]
    }
   ],
   "source": [
    "print 'Feature vector and label for Game: 0020000015'\n",
    "print feature_matrix[0]\n",
    "print labels[0]"
   ]
  },
  {
   "cell_type": "code",
   "execution_count": 15,
   "metadata": {},
   "outputs": [
    {
     "data": {
      "text/plain": [
       "LinearRegression(copy_X=True, fit_intercept=True, n_jobs=1, normalize=False)"
      ]
     },
     "execution_count": 15,
     "metadata": {},
     "output_type": "execute_result"
    }
   ],
   "source": [
    "# linear regression model\n",
    "regr = linear_model.LinearRegression()\n",
    "regr.fit(feature_matrix, labels)"
   ]
  },
  {
   "cell_type": "code",
   "execution_count": 16,
   "metadata": {},
   "outputs": [
    {
     "name": "stderr",
     "output_type": "stream",
     "text": [
      "/Users/vraja/anaconda/lib/python2.7/site-packages/sklearn/utils/validation.py:386: DeprecationWarning: Passing 1d arrays as data is deprecated in 0.17 and willraise ValueError in 0.19. Reshape your data either using X.reshape(-1, 1) if your data has a single feature or X.reshape(1, -1) if it contains a single sample.\n  DeprecationWarning)\n"
     ]
    },
    {
     "data": {
      "text/plain": [
       "array([-26.66853137])"
      ]
     },
     "execution_count": 16,
     "metadata": {},
     "output_type": "execute_result"
    }
   ],
   "source": [
    "regr.predict(feature_matrix[0])"
   ]
  },
  {
   "cell_type": "code",
   "execution_count": 17,
   "metadata": {},
   "outputs": [],
   "source": [
    "# import and clean up spread data\n",
    "bet_data_2016_2017 = pickle.load(open('data_retrieval/spread_data_nowgoal/bet_info_2016_2017_full_corrected.pkl', 'rb'))\n",
    "\n",
    "def fix_game(game):\n",
    "  fixes = {\n",
    "    'Milwaukee': 'Bucks',\n",
    "    'Trail': 'Trail Blazers',\n",
    "    'Trailblazers': 'Trail Blazers',\n",
    "    'Trail Blaze': 'Trail Blazers',\n",
    "    'sac': 'Kings'\n",
    "  }\n",
    "  for key in ('home', 'away'):\n",
    "    if key in game and game[key] in fixes:\n",
    "      game[key] = fixes[game[key]]\n",
    "\n",
    "bet_info = []\n",
    "for day_str, games in bet_data_2016_2017.iteritems():\n",
    "  for game in games:\n",
    "    fix_game(game)\n",
    "    bet_info.append({\n",
    "      'home': game['home'],\n",
    "      'away': game['away'],\n",
    "      'overunder': game['overunder'],\n",
    "      'line': game['line'],\n",
    "      'date': datetime.datetime.strptime(day_str, '%Y-%m-%d') - datetime.timedelta(days=1),\n",
    "    })\n",
    "    \n",
    "bet_data_by_tuple_rep = {}\n",
    "for bet_data in bet_info:\n",
    "  tuple_rep = (bet_data['away'], bet_data['home'], bet_data['date'])\n",
    "  bet_data_by_tuple_rep[tuple_rep] = bet_data"
   ]
  },
  {
   "cell_type": "code",
   "execution_count": 18,
   "metadata": {},
   "outputs": [],
   "source": [
    "# mapping between game ID and (home_team, away_team, datetime)\n",
    "TEAM_ID_TO_NAME = {\n",
    "  1610612737: 'Hawks',\n",
    "  1610612738: 'Celtics',\n",
    "  1610612751: 'Nets',\n",
    "  1610612766: 'Hornets',\n",
    "  1610612741: 'Bulls',\n",
    "  1610612739: 'Cavaliers',\n",
    "  1610612742: 'Mavericks',\n",
    "  1610612743: 'Nuggets',\n",
    "  1610612765: 'Pistons',\n",
    "  1610612744: 'Warriors',\n",
    "  1610612745: 'Rockets',\n",
    "  1610612754: 'Pacers',\n",
    "  1610612746: 'Clippers',\n",
    "  1610612747: 'Lakers',\n",
    "  1610612763: 'Grizzlies',\n",
    "  1610612748: 'Heat',\n",
    "  1610612749: 'Bucks',\n",
    "  1610612750: 'Timberwolves',\n",
    "  1610612740: 'Pelicans',\n",
    "  1610612752: 'Knicks',\n",
    "  1610612760: 'Thunder',\n",
    "  1610612753: 'Magic',\n",
    "  1610612755: '76ers',\n",
    "  1610612756: 'Suns',\n",
    "  1610612757: 'Trail Blazers',\n",
    "  1610612758: 'Kings',\n",
    "  1610612759: 'Spurs',\n",
    "  1610612761: 'Raptors',\n",
    "  1610612762: 'Jazz',\n",
    "  1610612764: 'Wizards', \n",
    "}\n",
    "\n",
    "tuple_rep_by_game_id = {}\n",
    "for json_file_name, data in boxscore_data_ordered_by_key.iteritems():\n",
    "  game_id = json_file_name.split('.')[0]\n",
    "  traditional_data = boxscore_data[json_file_name]['boxscoretraditionalv2']\n",
    "  away_team_id = None\n",
    "  home_team_id = None\n",
    "  game_date = None\n",
    "  if 'resultSets' in traditional_data:\n",
    "    traditional_results = traditional_data['resultSets']\n",
    "    # first team in list is away, second is home\n",
    "    if len(traditional_results[1]['rowSet']) == 0:\n",
    "      continue\n",
    "    away_team_idx, home_team_idx = home_away_team_indices_by_game_id[game_id]\n",
    "    away_team_id = traditional_results[1]['rowSet'][away_team_idx][1]\n",
    "    home_team_id = traditional_results[1]['rowSet'][home_team_idx][1]\n",
    "  else:\n",
    "    continue\n",
    "  boxscore_summary = boxscore_data[json_file_name]['boxscoresummaryv2']\n",
    "  if 'resultSets' in boxscore_summary:\n",
    "    summary_results = boxscore_summary['resultSets']\n",
    "    if len(summary_results[0]['rowSet']) == 0:\n",
    "      continue\n",
    "    game_date = datetime.datetime.strptime(summary_results[0]['rowSet'][0][0].split('T')[0], '%Y-%m-%d')\n",
    "  tuple_rep_by_game_id[game_id] = (TEAM_ID_TO_NAME[away_team_id], TEAM_ID_TO_NAME[home_team_id], game_date)"
   ]
  },
  {
   "cell_type": "code",
   "execution_count": 19,
   "metadata": {},
   "outputs": [],
   "source": [
    "# map game IDs to spreads, game_ids from stats.nba.com should map 1:1 with spreads (1230 elements each)\n",
    "game_ids_2016_2017 = game_ids_by_season['16']\n",
    "spreads_for_2016_2017 = {}\n",
    "for game_id in game_ids_2016_2017:\n",
    "  tuple_rep = tuple_rep_by_game_id[game_id]\n",
    "  spreads_for_2016_2017[game_id] = (bet_data_by_tuple_rep[tuple_rep])"
   ]
  },
  {
   "cell_type": "code",
   "execution_count": 61,
   "metadata": {},
   "outputs": [
    {
     "name": "stdout",
     "output_type": "stream",
     "text": [
      "Number of games where either or both teams are playing the first game of the season: 16\n0021600016\n[  47.      98.       0.48    12.      24.       0.5     23.      26.\n    0.885   21.      34.      55.      25.      13.       3.      13.      19.\n  129.      29.      44.      86.       0.512    6.      21.       0.286\n   19.      26.       0.731   10.      31.      41.      24.       5.       5.\n   13.      20.     113.      19.   ]\n8.0\n1214\n1214\n0 games in\nWin Percent: 0.515650741351\nLoss Percent: 0.484349258649\nBets placed: 1214\nBets not placed: 0\n\n400 games in\nWin Percent: 0.527027027027\nLoss Percent: 0.472972972973\nBets placed: 814\nBets not placed: 0\n\n800 games in\nWin Percent: 0.548309178744\nLoss Percent: 0.451690821256\nBets placed: 414\nBets not placed: 0\n\n1000 games in\nWin Percent: 0.584112149533\nLoss Percent: 0.415887850467\nBets placed: 214\nBets not placed: 0\n"
     ]
    }
   ],
   "source": [
    "# Evaluation\n",
    "# As a preliminary evaluation run, train on 2000-2016, evaluate on 2016-2017 season\n",
    "feature_vectors_for_2000_2016 = []\n",
    "labels_for_2000_2016 = []\n",
    "game_ids_2016_2017_feat_vectors = []\n",
    "feature_vectors_for_2016_2017 = []\n",
    "labels_for_2016_2017 = []\n",
    "\n",
    "# collect only feature vectors/labels for the 2016 season for training\n",
    "for idx, feature_vector in enumerate(feature_matrix):\n",
    "  game_id = game_ids_for_feat_vectors[idx]\n",
    "  game_season = game_id[3:5]\n",
    "  if game_season == '16':\n",
    "    feature_vectors_for_2016_2017.append(feature_vector)\n",
    "    labels_for_2016_2017.append(labels[idx])\n",
    "    game_ids_2016_2017_feat_vectors.append(game_id)\n",
    "  else:\n",
    "    feature_vectors_for_2000_2016.append(feature_vector)\n",
    "    labels_for_2000_2016.append(labels[idx])\n",
    "\n",
    "feature_matrix_for_2000_2016 = np.asarray(feature_vectors_for_2000_2016)\n",
    "labels_for_2000_2016 = np.asarray(labels_for_2000_2016)\n",
    "# linear regression model for 2000-2016 data\n",
    "regr_2016_2017 = linear_model.LinearRegression()\n",
    "regr_2016_2017.fit(feature_vectors_for_2000_2016, labels_for_2000_2016)\n",
    "\n",
    "feature_matrix_for_2016_2017 = np.asarray(feature_vectors_for_2016_2017)\n",
    "score_delta_predictions = regr_2016_2017.predict(feature_vectors_for_2016_2017)\n",
    "print 'Number of games where either or both teams are playing the first game of the season: {}'.format(\n",
    "  len(game_ids_by_season['16']) - len(score_delta_predictions))\n",
    "\n",
    "print game_ids_2016_2017_feat_vectors[0]\n",
    "print feature_matrix_for_2016_2017[0]\n",
    "print labels_for_2016_2017[0]\n",
    "\n",
    "print len(game_ids_2016_2017_feat_vectors)\n",
    "print len(score_delta_predictions)\n",
    "\n",
    "def evaluate(n_games_in):\n",
    "  wins = 0.\n",
    "  losses = 0.\n",
    "  bets_not_placed = 0\n",
    "  bets_placed = 0\n",
    "  for idx in range(n_games_in, len(score_delta_predictions)):\n",
    "    score_delta_prediction = score_delta_predictions[idx]\n",
    "    game_id = game_ids_2016_2017_feat_vectors[idx]\n",
    "    spread_data = spreads_for_2016_2017[game_id]\n",
    "    actual_score_delta = labels_for_2016_2017[idx]\n",
    "    # need to multiply by -1 because positive predictions mean away team is favorite, but need to convert\n",
    "    # to spread\n",
    "    actual_score_delta = -1 * actual_score_delta\n",
    "    score_delta_prediction = -1 * score_delta_prediction\n",
    "    line = spread_data['line'] # will be in the format -7.5 if away team is favored to win by >=7.5\n",
    "    # away team is favored\n",
    "    # win the game by at least the line\n",
    "    if line < 0 and score_delta_prediction < line:\n",
    "      bets_placed += 1\n",
    "      if actual_score_delta < line:\n",
    "        wins += 1\n",
    "      else:\n",
    "        losses += 1\n",
    "      continue\n",
    "    if line < 0 and score_delta_prediction > line:\n",
    "      bets_placed += 1\n",
    "      if actual_score_delta > line:\n",
    "        wins += 1\n",
    "      else:\n",
    "        losses += 1\n",
    "      continue\n",
    "    # away team is underdog\n",
    "    # lose by less than the line or outright win\n",
    "    if line > 0 and score_delta_prediction > line:\n",
    "      bets_placed += 1\n",
    "      if actual_score_delta > line:\n",
    "        wins += 1\n",
    "      else:\n",
    "        losses += 1\n",
    "      continue\n",
    "    if line > 0 and score_delta_prediction < line:\n",
    "      bets_placed += 1\n",
    "      if actual_score_delta < line:\n",
    "        wins += 1\n",
    "      else:\n",
    "        losses += 1\n",
    "      continue\n",
    "    bets_not_placed += 1\n",
    "  print '{} games in'.format(n_games_in)\n",
    "  print 'Win Percent: {}'.format(wins/bets_placed)\n",
    "  print 'Loss Percent: {}'.format(losses/bets_placed)\n",
    "  print 'Bets placed: {}'.format(bets_placed)\n",
    "  print 'Bets not placed: {}'.format(bets_not_placed)\n",
    "\n",
    "# feature_vector = away stats, home stats\n",
    "# FGM, FGA, FG%, 3PM, 3PA, 3P%, FTM, FTA, FT%, OREB, DREB, REB, AST, STL, BLK, TOV, PF, PTS, PLUSMINUS\n",
    "# label = num points away team won/lost by\n",
    "# predictions will be differential from away team perspective\n",
    "# lines are also from away team perspective (negative line means away team is favored to win by n points)\n",
    "evaluate(0)\n",
    "print\n",
    "evaluate(400)\n",
    "print\n",
    "evaluate(800)\n",
    "print\n",
    "evaluate(1000)"
   ]
  },
  {
   "cell_type": "code",
   "execution_count": 51,
   "metadata": {},
   "outputs": [
    {
     "data": {
      "text/plain": [
       "array([  6.25936511e+12,  -5.01708984e-01,  -3.83061523e+01,\n         3.12968256e+12,   4.38720703e-01,   7.90063477e+00,\n         3.12968256e+12,  -2.31933594e-02,   4.50463867e+00,\n        -1.17490146e+12,  -1.17490146e+12,   1.17490146e+12,\n         1.43615723e-01,   1.13769531e-01,   1.13571167e-01,\n        -2.69592285e-01,  -5.84182739e-02,  -3.12968256e+12,\n         5.22094727e-01,   3.59420509e+12,   1.10357666e+00,\n         1.62182558e+02,   1.79710255e+12,   5.55419922e-02,\n         1.47848396e+01,   1.79710255e+12,  -6.15600586e-01,\n        -1.64176664e+01,  -9.91007675e+12,  -9.91007675e+12,\n         9.91007675e+12,  -1.80541992e-01,  -1.84478760e-01,\n        -2.45628357e-01,   3.21899414e-01,   2.50854492e-02,\n        -1.79710255e+12,  -5.67138672e-01])"
      ]
     },
     "execution_count": 51,
     "metadata": {},
     "output_type": "execute_result"
    }
   ],
   "source": [
    "regr_2016_2017.coef_"
   ]
  },
  {
   "cell_type": "code",
   "execution_count": 53,
   "metadata": {},
   "outputs": [
    {
     "name": "stdout",
     "output_type": "stream",
     "text": [
      "R^2: 0.151549896917\n"
     ]
    }
   ],
   "source": [
    "print \"R^2: {}\".format(regr_2016_2017.score(feature_vectors_for_2000_2016, labels_for_2000_2016))"
   ]
  }
 ],
 "metadata": {
  "anaconda-cloud": {},
  "kernelspec": {
   "display_name": "Python [default]",
   "language": "python",
   "name": "python2"
  },
  "language_info": {
   "codemirror_mode": {
    "name": "ipython",
    "version": 2.0
   },
   "file_extension": ".py",
   "mimetype": "text/x-python",
   "name": "python",
   "nbconvert_exporter": "python",
   "pygments_lexer": "ipython2",
   "version": "2.7.12"
  }
 },
 "nbformat": 4,
 "nbformat_minor": 0
}