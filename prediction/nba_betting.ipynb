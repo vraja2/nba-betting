{
 "cells": [
  {
   "cell_type": "code",
   "execution_count": 10,
   "metadata": {
    "collapsed": true
   },
   "outputs": [],
   "source": [
    "import json\n",
    "import numpy as np\n",
    "from collections import defaultdict\n",
    "from collections import OrderedDict"
   ]
  },
  {
   "cell_type": "code",
   "execution_count": 5,
   "metadata": {
    "collapsed": false
   },
   "outputs": [],
   "source": [
    "f = open('prediction/all_boxscores_2000_2017.json')\n",
    "boxscore_data = json.load(f)"
   ]
  },
  {
   "cell_type": "code",
   "execution_count": 6,
   "metadata": {},
   "outputs": [],
   "source": [
    "boxscore_data_ordered_by_key = OrderedDict(sorted(boxscore_data.items()))"
   ]
  },
  {
   "cell_type": "code",
   "execution_count": 11,
   "metadata": {
    "collapsed": false
   },
   "outputs": [],
   "source": [
    "# build running averages of stats in a season for a team\n",
    "# team-name -> game_id -> average (inclusive of current game)\n",
    "team_boxscore_rolling_averages = defaultdict(dict)\n",
    "\n",
    "boxscore_categories = ['boxscoretraditionalv2', 'boxscoreadvancedv2', 'boxscoremiscv2', 'boxscorescoringv2',\n",
    "                       'boxscoreusagev2', 'boxscorefourfactorsv2', 'boxscoreplayertrackv2', 'hustlestatsboxscore',\n",
    "                       'boxscoresummaryv2']\n",
    "\n",
    "BOXSCORE_TRADITIONAL_FEATURES = []\n",
    "\n",
    "def prune_team_stats(team_stats):\n",
    "  pass\n",
    "\n",
    "def prune_starter_bench_stats(team_starter_bench_stats):\n",
    "  pass\n",
    "\n",
    "for json_file_name, data in boxscore_data_ordered_by_key.iteritems():\n",
    "  game_id = json_file_name.split('.')[0]\n",
    "  for boxscore_category in boxscore_categories:\n",
    "    category_data = boxscore_data[json_file_name][boxscore_category]\n",
    "    if boxscore_category == 'boxscoretraditionalv2':\n",
    "      if 'resultsSets' in category_data:\n",
    "        data = category_data['resultSets']\n",
    "        # first team in list is away, second is home\n",
    "        team_stats_away = data[1]['rowSet'][0]\n",
    "        team_stats_home = data[1]['rowSet'][1]\n",
    "        pruned_team_stats_away_features = prune_team_stats(team_stats_away)\n",
    "        pruned_team_stats_home_features = prune_team_stats(team_stats_home)\n",
    "        team_starter_stats_away = data[2]['rowSet'][0]\n",
    "        team_bench_stats_away = data[2]['rowSet'][1]\n",
    "        team_starter_stats_home = data[2]['rowSet'][2]\n",
    "        team_bench_stats_home = data[2]['rowSet'][3]\n",
    "        pruned_starter_stats_away = prune_starter_bench_stats(team_starter_stats_away)\n",
    "        pruned_bench_stats_away = prune_starter_bench_stats(team_bench_stats_away)\n",
    "        pruned_starter_stats_home = prune_starter_bench_stats(team_starter_stats_home)\n",
    "        pruned_bench_stats_home = prune_starter_bench_stats(team_bench_stats_away)\n",
    "    else:\n",
    "      # ignore other categories for now\n",
    "      break\n",
    "\n",
    "\n",
    "# generate features\n",
    "features = ['HOME_PTS_PAINT', 'AWAY_PTS_PAINT', 'HOME_PTS_2ND_CHANCE', 'AWAY_PTS_2ND_CHANCE', \n",
    "            'HOME_PTS_FB', 'AWAY_PTS_FB', 'HOME_LARGEST_LEAD', 'AWAY_LARGEST_LEAD', \n",
    "            'LEAD_CHANGES', 'TIMES_TIED', 'HOME_TURNOVERS', 'AWAY_TURNOVERS', \n",
    "            'HOME_PTS_OFF_TO', 'AWAY_PTS_OFF_TO']"
   ]
  }
 ],
 "metadata": {
  "anaconda-cloud": {},
  "kernelspec": {
   "display_name": "Python [default]",
   "language": "python",
   "name": "python2"
  },
  "language_info": {
   "codemirror_mode": {
    "name": "ipython",
    "version": 2.0
   },
   "file_extension": ".py",
   "mimetype": "text/x-python",
   "name": "python",
   "nbconvert_exporter": "python",
   "pygments_lexer": "ipython2",
   "version": "2.7.12"
  }
 },
 "nbformat": 4,
 "nbformat_minor": 0
}