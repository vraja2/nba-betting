{
 "cells": [
  {
   "cell_type": "code",
   "execution_count": 2,
   "metadata": {
    "collapsed": true
   },
   "outputs": [],
   "source": [
    "%matplotlib inline\n",
    "\n",
    "import datetime\n",
    "import json\n",
    "import matplotlib.pyplot as plt\n",
    "import numpy as np\n",
    "import pickle\n",
    "from sklearn import linear_model\n",
    "from sklearn.neural_network import MLPRegressor\n",
    "from collections import defaultdict\n",
    "from collections import OrderedDict"
   ]
  },
  {
   "cell_type": "code",
   "execution_count": 3,
   "metadata": {
    "collapsed": false
   },
   "outputs": [],
   "source": [
    "f = open('prediction/all_boxscores_2000_2017.json')\n",
    "boxscore_data = json.load(f)"
   ]
  },
  {
   "cell_type": "code",
   "execution_count": 4,
   "metadata": {
    "collapsed": true
   },
   "outputs": [],
   "source": [
    "boxscore_data_ordered_by_key = OrderedDict(sorted(boxscore_data.items()))"
   ]
  },
  {
   "cell_type": "code",
   "execution_count": 5,
   "metadata": {
    "collapsed": false
   },
   "outputs": [],
   "source": [
    "# build running averages of stats in a season for a team\n",
    "# team-ID -> season -> team's game ID -> stat_type -> average (inclusive of current game)\n",
    "team_boxscore_rolling_averages = defaultdict(lambda: defaultdict(lambda: defaultdict(dict)))\n",
    "\n",
    "boxscore_categories = ['boxscoretraditionalv2', 'boxscoreadvancedv2', 'boxscoremiscv2', 'boxscorescoringv2',\n",
    "                       'boxscoreusagev2', 'boxscorefourfactorsv2', 'boxscoreplayertrackv2', 'hustlestatsboxscore',\n",
    "                       'boxscoresummaryv2']\n",
    "supported_boxscore_categories = ['boxscoretraditionalv2', 'boxscoreadvancedv2']\n",
    "\n",
    "def prune_team_stats(team_stats):\n",
    "  pruned_team_stats = []\n",
    "  stat_name_index_tuples = [\n",
    "    ('FGM', 6),\n",
    "    ('FGA', 7),\n",
    "    ('FG_PCT', 8),\n",
    "    ('FG3M', 9),\n",
    "    ('FG3A', 10),\n",
    "    ('FG3_PCT', 11),\n",
    "    ('FTM', 12),\n",
    "    ('FTA', 13),\n",
    "    ('FT_PCT', 14),\n",
    "    ('OREB', 15),\n",
    "    ('DREB', 16),\n",
    "    ('REB', 17),\n",
    "    ('AST', 18),\n",
    "    ('STL', 19),\n",
    "    ('BLK', 20),\n",
    "    ('TO', 21),\n",
    "    ('PF', 22),\n",
    "    ('PTS', 23),\n",
    "    ('PLUS_MINUS', 24)\n",
    "  ]\n",
    "  \n",
    "  for stat_name_index_tuple in stat_name_index_tuples:\n",
    "    pruned_team_stats.append(team_stats[stat_name_index_tuple[1]])\n",
    "  \n",
    "  return np.asarray(pruned_team_stats)\n",
    "\n",
    "def prune_advanced_team_stats(advanced_team_stats):\n",
    "  pruned_advanced_team_stats = []\n",
    "  stat_name_index_tuples = [\n",
    "    ('OFF_RATING', 6),\n",
    "    ('DEF_RATING', 7),\n",
    "    ('NET_RATING', 8),\n",
    "    ('AST_PCT', 9),\n",
    "    ('AST_TOV', 10),\n",
    "    ('AST_RATIO', 11),\n",
    "    ('OREB_PCT', 12),\n",
    "    ('DREB_PCT', 13),\n",
    "    ('REB_PCT', 14),\n",
    "    ('TM_TOV_PCT', 15),\n",
    "    ('EFG_PCT', 16),\n",
    "    ('TS_PCT', 17),\n",
    "    ('USG_PCT', 18),\n",
    "    ('PACE', 19),\n",
    "    ('PIE', 20)\n",
    "  ]\n",
    "  \n",
    "  for stat_name_index_tuple in stat_name_index_tuples:\n",
    "    pruned_advanced_team_stats.append(advanced_team_stats[stat_name_index_tuple[1]])\n",
    "  \n",
    "  return np.asarray(pruned_advanced_team_stats)\n",
    "\n",
    "def prune_starter_bench_stats(team_starter_bench_stats):\n",
    "  pruned_team_starter_bench_stats = []\n",
    "  stat_name_index_tuples = [\n",
    "    ('FGM', 7),\n",
    "    ('FGA', 8),\n",
    "    ('FG_PCT', 9),\n",
    "    ('FG3M', 10),\n",
    "    ('FG3A', 11),\n",
    "    ('FG3_PCT', 12),\n",
    "    ('FTM', 13),\n",
    "    ('FTA', 14),\n",
    "    ('FT_PCT', 15),\n",
    "    ('OREB', 16),\n",
    "    ('DREB', 17),\n",
    "    ('REB', 18),\n",
    "    ('AST', 19),\n",
    "    ('STL', 20),\n",
    "    ('BLK', 21),\n",
    "    ('TO', 22),\n",
    "    ('PF', 23),\n",
    "    ('PTS', 24),\n",
    "  ]\n",
    "  \n",
    "  for stat_name_index_tuple in stat_name_index_tuples:\n",
    "    pruned_team_starter_bench_stats.append(team_starter_bench_stats[stat_name_index_tuple[1]])\n",
    "  \n",
    "  return np.asarray(pruned_team_starter_bench_stats)\n",
    "\n",
    "# maintains state about how many games were played by a team in a season, reset every season\n",
    "# TEAM_ID -> num games played\n",
    "team_games_played_dict = defaultdict(lambda: 1)\n",
    "prev_game_id_dict = defaultdict(str)\n",
    "\n",
    "# team_id -> game_id -> previous game ID\n",
    "game_sequence_dict = defaultdict(lambda: defaultdict(str))\n",
    "\n",
    "game_ids_by_season = defaultdict(list)\n",
    "\n",
    "home_away_team_indices_by_game_id = {}\n",
    "\n",
    "prev_game_num = None\n",
    "prev_game_id = None\n",
    "for json_file_name, data in boxscore_data_ordered_by_key.iteritems():\n",
    "  game_id = json_file_name.split('.')[0]\n",
    "  game_num = game_id[-4:]\n",
    "  season = game_id[3:5]\n",
    "  if game_num == '0001':\n",
    "    team_games_played_dict = defaultdict(lambda: 1)\n",
    "    prev_game_id_dict = defaultdict(str)\n",
    "  if 'resultSets' in boxscore_data[json_file_name]['boxscoresummaryv2']:\n",
    "    boxscore_summary_data = boxscore_data[json_file_name]['boxscoresummaryv2']['resultSets'][0]['rowSet'][0]\n",
    "  else:\n",
    "    continue\n",
    "  game_ids_by_season[season].append(game_id)\n",
    "  home_team_id = boxscore_summary_data[6]\n",
    "  away_team_id = boxscore_summary_data[7]\n",
    "  away_team_idx = None\n",
    "  home_team_idx = None\n",
    "  for boxscore_category in supported_boxscore_categories:\n",
    "    category_data = boxscore_data[json_file_name][boxscore_category]\n",
    "    if 'resultSets' in category_data:\n",
    "      data = category_data['resultSets']\n",
    "      if len(data[1]['rowSet']) == 0:\n",
    "        continue\n",
    "    if boxscore_category == 'boxscoretraditionalv2':\n",
    "      if data[1]['rowSet'][0][1] == home_team_id:\n",
    "        away_team_idx = 1\n",
    "        home_team_idx = 0\n",
    "      else:\n",
    "        away_team_idx = 0\n",
    "        home_team_idx = 1\n",
    "      home_away_team_indices_by_game_id[game_id] = (away_team_idx, home_team_idx)\n",
    "      team_stats_away = data[1]['rowSet'][away_team_idx]\n",
    "      team_stats_home = data[1]['rowSet'][home_team_idx]\n",
    "      pruned_team_stats_away_features = prune_team_stats(team_stats_away)\n",
    "      pruned_team_stats_home_features = prune_team_stats(team_stats_home)\n",
    "      team_starter_stats_away = data[2]['rowSet'][0]\n",
    "      team_bench_stats_away = data[2]['rowSet'][1]\n",
    "      team_starter_stats_home = data[2]['rowSet'][2]\n",
    "      team_bench_stats_home = data[2]['rowSet'][3]\n",
    "      pruned_starter_stats_away = prune_starter_bench_stats(team_starter_stats_away)\n",
    "      pruned_bench_stats_away = prune_starter_bench_stats(team_bench_stats_away)\n",
    "      pruned_starter_stats_home = prune_starter_bench_stats(team_starter_stats_home)\n",
    "      pruned_bench_stats_home = prune_starter_bench_stats(team_bench_stats_away)\n",
    "      \n",
    "      if team_games_played_dict[away_team_id] == 1:\n",
    "        team_boxscore_rolling_averages[away_team_id][season][game_id]['team_stats'] = pruned_team_stats_away_features\n",
    "      else:\n",
    "        prev_game_num = team_games_played_dict[away_team_id] - 1\n",
    "        curr_game_num = team_games_played_dict[away_team_id]\n",
    "        prev_game_id = prev_game_id_dict[away_team_id]\n",
    "        game_sequence_dict[away_team_id][game_id] = prev_game_id\n",
    "        prev_away_team_stats = team_boxscore_rolling_averages[away_team_id][season][prev_game_id]['team_stats']\n",
    "        team_boxscore_rolling_averages[away_team_id][season][game_id]['team_stats'] = \\\n",
    "          prev_away_team_stats + \\\n",
    "          (pruned_team_stats_away_features - prev_away_team_stats)/curr_game_num\n",
    "\n",
    "      if team_games_played_dict[home_team_id] == 1:\n",
    "        team_boxscore_rolling_averages[home_team_id][season][game_id]['team_stats'] = pruned_team_stats_home_features\n",
    "      else:\n",
    "        prev_game_num = team_games_played_dict[home_team_id] - 1\n",
    "        curr_game_num = team_games_played_dict[home_team_id]\n",
    "        prev_game_id = prev_game_id_dict[home_team_id]\n",
    "        game_sequence_dict[home_team_id][game_id] = prev_game_id\n",
    "        prev_home_team_stats = team_boxscore_rolling_averages[home_team_id][season][prev_game_id]['team_stats']\n",
    "        team_boxscore_rolling_averages[home_team_id][season][game_id]['team_stats'] = \\\n",
    "          prev_home_team_stats + \\\n",
    "          (pruned_team_stats_home_features - prev_home_team_stats)/curr_game_num\n",
    "    elif boxscore_category == 'boxscoreadvancedv2':\n",
    "      advanced_team_stats_away = data[1]['rowSet'][away_team_idx]\n",
    "      advanced_team_stats_home = data[1]['rowSet'][home_team_idx]\n",
    "      pruned_advanced_team_stats_away_features = prune_advanced_team_stats(advanced_team_stats_away)\n",
    "      pruned_advanced_team_stats_home_features = prune_advanced_team_stats(advanced_team_stats_home)\n",
    "      \n",
    "      if team_games_played_dict[away_team_id] == 1:\n",
    "        team_boxscore_rolling_averages[away_team_id][season][game_id]['advanced_team_stats'] = pruned_advanced_team_stats_away_features\n",
    "      else:\n",
    "        prev_game_num = team_games_played_dict[away_team_id] - 1\n",
    "        curr_game_num = team_games_played_dict[away_team_id]\n",
    "        prev_game_id = prev_game_id_dict[away_team_id]\n",
    "        game_sequence_dict[away_team_id][game_id] = prev_game_id\n",
    "        prev_away_advanced_team_stats = team_boxscore_rolling_averages[away_team_id][season][prev_game_id]['advanced_team_stats']\n",
    "        team_boxscore_rolling_averages[away_team_id][season][game_id]['advanced_team_stats'] = \\\n",
    "          prev_away_advanced_team_stats + \\\n",
    "          (pruned_advanced_team_stats_away_features - prev_away_advanced_team_stats)/curr_game_num\n",
    "\n",
    "      if team_games_played_dict[home_team_id] == 1:\n",
    "        team_boxscore_rolling_averages[home_team_id][season][game_id]['advanced_team_stats'] = pruned_advanced_team_stats_home_features\n",
    "      else:\n",
    "        prev_game_num = team_games_played_dict[home_team_id] - 1\n",
    "        curr_game_num = team_games_played_dict[home_team_id]\n",
    "        prev_game_id = prev_game_id_dict[home_team_id]\n",
    "        game_sequence_dict[home_team_id][game_id] = prev_game_id\n",
    "        prev_home_advanced_team_stats = team_boxscore_rolling_averages[home_team_id][season][prev_game_id]['advanced_team_stats']\n",
    "        team_boxscore_rolling_averages[home_team_id][season][game_id]['advanced_team_stats'] = \\\n",
    "          prev_home_advanced_team_stats + \\\n",
    "          (pruned_advanced_team_stats_home_features - prev_home_advanced_team_stats)/curr_game_num\n",
    "    else:\n",
    "      # ignore other categories for now\n",
    "      break\n",
    "      \n",
    "  prev_game_id_dict[away_team_id] = game_id\n",
    "  team_games_played_dict[away_team_id] += 1\n",
    "  prev_game_id_dict[home_team_id] = game_id\n",
    "  team_games_played_dict[home_team_id] += 1"
   ]
  },
  {
   "cell_type": "code",
   "execution_count": 6,
   "metadata": {
    "collapsed": false
   },
   "outputs": [
    {
     "name": "stdout",
     "output_type": "stream",
     "text": [
      "[  39.47560976   87.41463415    0.45214634    8.43902439   25.80487805\n    0.32653659   19.20731707   25.76829268    0.74769512   12.2195122\n   34.40243902   46.62195122   20.98780488    7.90243902    4.98780488\n   14.63414634   20.91463415  106.59756098    0.75609756]\n[ 105.10609756  105.23902439   -0.13414634    0.5297439     1.47329268\n   15.49390244    0.27928049    0.79246341    0.53479268   14.75363415\n    0.50069512    0.54067073    0.1992439   100.45231707    0.4992561 ]\n"
     ]
    }
   ],
   "source": [
    "# cumulative timeseries for the OKC Thunder in the 2016-17 season\n",
    "okc_ts = team_boxscore_rolling_averages[1610612760]['16']\n",
    "# rolling averages of stats over entire season (last element of timeseries)\n",
    "print okc_ts['0021601225']['team_stats']\n",
    "# FGM, FGA, FG%, 3PM, 3PA, 3P%, FTM, FTA, FT%, OREB, DREB, REB, AST, STL, BLK, TOV, PF, PTS, PLUSMINUS\n",
    "print okc_ts['0021601225']['advanced_team_stats']"
   ]
  },
  {
   "cell_type": "code",
   "execution_count": 7,
   "metadata": {
    "collapsed": true
   },
   "outputs": [],
   "source": [
    "# create labels for training/testing\n",
    "# delta is from the away team perspective (e.g if the away team loses by 5, delta = -5)\n",
    "game_id_score_delta_dict = {}\n",
    "for json_file_name, data in boxscore_data_ordered_by_key.iteritems():\n",
    "  game_id = json_file_name.split('.')[0]\n",
    "  category_data = boxscore_data[json_file_name]['boxscoretraditionalv2']\n",
    "  if 'resultSets' in category_data:\n",
    "    data = category_data['resultSets']\n",
    "    # first team in list is away, second is home\n",
    "    if len(data[1]['rowSet']) == 0:\n",
    "      continue\n",
    "    away_team_idx, home_team_idx = home_away_team_indices_by_game_id[game_id]\n",
    "    away_team_stats = data[1]['rowSet'][away_team_idx]\n",
    "    away_team_plus_minus = away_team_stats[24]\n",
    "    game_id_score_delta_dict[game_id] = away_team_plus_minus"
   ]
  },
  {
   "cell_type": "code",
   "execution_count": 8,
   "metadata": {
    "collapsed": false
   },
   "outputs": [
    {
     "data": {
      "text/plain": [
       "1.0"
      ]
     },
     "execution_count": 8,
     "metadata": {},
     "output_type": "execute_result"
    }
   ],
   "source": [
    "# OKC beats Denver by 1 point in the final game of the 2016-17 season\n",
    "game_id_score_delta_dict['0021601198']"
   ]
  },
  {
   "cell_type": "code",
   "execution_count": 9,
   "metadata": {
    "collapsed": true
   },
   "outputs": [],
   "source": [
    "# assemble feature vectors\n",
    "# away team features, home team features\n",
    "feature_vectors = []\n",
    "labels = []\n",
    "game_ids_for_feat_vectors = []\n",
    "for json_file_name, data in boxscore_data_ordered_by_key.iteritems():\n",
    "  feature_vector = []\n",
    "  game_id = json_file_name.split('.')[0]\n",
    "  game_num = game_id[-4:]\n",
    "  season = game_id[3:5]\n",
    "  \n",
    "  category_data = boxscore_data[json_file_name]['boxscoretraditionalv2']\n",
    "  if 'resultSets' in category_data:\n",
    "    data = category_data['resultSets']\n",
    "    if len(data[1]['rowSet']) == 0:\n",
    "      continue\n",
    "    away_team_idx, home_team_idx = home_away_team_indices_by_game_id[game_id]\n",
    "    away_team_id = data[1]['rowSet'][away_team_idx][1]\n",
    "    home_team_id = data[1]['rowSet'][home_team_idx][1]\n",
    "    \n",
    "    if game_sequence_dict[away_team_id][game_id] == \"\" or game_sequence_dict[home_team_id][game_id] == \"\":\n",
    "      continue\n",
    "    # get previous game averages for both teams\n",
    "    prev_game_id_away = game_sequence_dict[away_team_id][game_id]\n",
    "    prev_game_id_home = game_sequence_dict[home_team_id][game_id]\n",
    "    away_stats_avg = team_boxscore_rolling_averages[away_team_id][season][prev_game_id_away]['team_stats']\n",
    "    home_stats_avg = team_boxscore_rolling_averages[home_team_id][season][prev_game_id_home]['team_stats']\n",
    "    away_advanced_team_stats_avg = team_boxscore_rolling_averages[away_team_id][season][prev_game_id_away]['advanced_team_stats']\n",
    "    home_advanced_team_stats_avg = team_boxscore_rolling_averages[home_team_id][season][prev_game_id_home]['advanced_team_stats']\n",
    "    game_ids_for_feat_vectors.append(game_id)\n",
    "    away_features = np.append(away_stats_avg, away_advanced_team_stats_avg)\n",
    "    home_features = np.append(home_stats_avg, home_advanced_team_stats_avg)\n",
    "    feature_vectors.append(np.append(away_features, home_features))\n",
    "    labels.append(game_id_score_delta_dict[game_id])\n",
    "\n",
    "feature_matrix = np.asarray(feature_vectors)\n",
    "labels = np.asarray(labels)"
   ]
  },
  {
   "cell_type": "code",
   "execution_count": 10,
   "metadata": {
    "collapsed": false
   },
   "outputs": [
    {
     "data": {
      "text/plain": [
       "(20211, 68)"
      ]
     },
     "execution_count": 10,
     "metadata": {},
     "output_type": "execute_result"
    }
   ],
   "source": [
    "feature_matrix.shape"
   ]
  },
  {
   "cell_type": "code",
   "execution_count": 11,
   "metadata": {
    "collapsed": false
   },
   "outputs": [
    {
     "data": {
      "text/plain": [
       "(20211,)"
      ]
     },
     "execution_count": 11,
     "metadata": {},
     "output_type": "execute_result"
    }
   ],
   "source": [
    "labels.shape"
   ]
  },
  {
   "cell_type": "code",
   "execution_count": 12,
   "metadata": {
    "collapsed": false
   },
   "outputs": [
    {
     "name": "stdout",
     "output_type": "stream",
     "text": [
      "Feature vector and label for Game: 0020000015\n[  35.      93.       0.376    5.      17.       0.294   20.      31.\n    0.645   20.      28.      48.      27.       7.       7.      15.      21.\n   95.      -9.      93.5    102.      -8.6      0.771    1.8     18.2\n    0.37     0.718    0.516   14.758    0.403    0.445    0.2    101.78\n    0.446   38.      66.       0.576    3.       8.       0.375   22.      30.\n    0.733    8.      29.      37.      27.      10.       5.      13.      24.\n  101.      29.     118.5     81.3     37.2      0.711    1.93    22.5\n    0.258    0.674    0.5     16.432    0.598    0.638    0.198   86.88\n    0.819]\n-6.0\n"
     ]
    }
   ],
   "source": [
    "print 'Feature vector and label for Game: 0020000015'\n",
    "print feature_matrix[0]\n",
    "print labels[0]"
   ]
  },
  {
   "cell_type": "code",
   "execution_count": 13,
   "metadata": {
    "collapsed": false
   },
   "outputs": [
    {
     "data": {
      "text/plain": [
       "LinearRegression(copy_X=True, fit_intercept=True, n_jobs=1, normalize=False)"
      ]
     },
     "execution_count": 13,
     "metadata": {},
     "output_type": "execute_result"
    }
   ],
   "source": [
    "# linear regression model\n",
    "regr = linear_model.LinearRegression()\n",
    "regr.fit(feature_matrix, labels)"
   ]
  },
  {
   "cell_type": "code",
   "execution_count": 14,
   "metadata": {
    "collapsed": false
   },
   "outputs": [
    {
     "data": {
      "text/plain": [
       "array([-21.07478137])"
      ]
     },
     "execution_count": 14,
     "metadata": {},
     "output_type": "execute_result"
    }
   ],
   "source": [
    "regr.predict(feature_matrix[0].reshape(1, -1))"
   ]
  },
  {
   "cell_type": "code",
   "execution_count": 15,
   "metadata": {
    "collapsed": true
   },
   "outputs": [],
   "source": [
    "# import and clean up spread data\n",
    "bet_data_2016_2017 = pickle.load(open('data_retrieval/spread_data_nowgoal/bet_info_2016_2017_full_corrected.pkl', 'rb'))\n",
    "\n",
    "def fix_game(game):\n",
    "  fixes = {\n",
    "    'Milwaukee': 'Bucks',\n",
    "    'Trail': 'Trail Blazers',\n",
    "    'Trailblazers': 'Trail Blazers',\n",
    "    'Trail Blaze': 'Trail Blazers',\n",
    "    'sac': 'Kings'\n",
    "  }\n",
    "  for key in ('home', 'away'):\n",
    "    if key in game and game[key] in fixes:\n",
    "      game[key] = fixes[game[key]]\n",
    "\n",
    "bet_info = []\n",
    "for day_str, games in bet_data_2016_2017.iteritems():\n",
    "  for game in games:\n",
    "    fix_game(game)\n",
    "    bet_info.append({\n",
    "      'home': game['home'],\n",
    "      'away': game['away'],\n",
    "      'overunder': game['overunder'],\n",
    "      'line': game['line'],\n",
    "      'date': datetime.datetime.strptime(day_str, '%Y-%m-%d') - datetime.timedelta(days=1),\n",
    "    })\n",
    "    \n",
    "bet_data_by_tuple_rep = {}\n",
    "for bet_data in bet_info:\n",
    "  tuple_rep = (bet_data['away'], bet_data['home'], bet_data['date'])\n",
    "  bet_data_by_tuple_rep[tuple_rep] = bet_data"
   ]
  },
  {
   "cell_type": "code",
   "execution_count": 16,
   "metadata": {
    "collapsed": true
   },
   "outputs": [],
   "source": [
    "# mapping between game ID and (home_team, away_team, datetime)\n",
    "TEAM_ID_TO_NAME = {\n",
    "  1610612737: 'Hawks',\n",
    "  1610612738: 'Celtics',\n",
    "  1610612751: 'Nets',\n",
    "  1610612766: 'Hornets',\n",
    "  1610612741: 'Bulls',\n",
    "  1610612739: 'Cavaliers',\n",
    "  1610612742: 'Mavericks',\n",
    "  1610612743: 'Nuggets',\n",
    "  1610612765: 'Pistons',\n",
    "  1610612744: 'Warriors',\n",
    "  1610612745: 'Rockets',\n",
    "  1610612754: 'Pacers',\n",
    "  1610612746: 'Clippers',\n",
    "  1610612747: 'Lakers',\n",
    "  1610612763: 'Grizzlies',\n",
    "  1610612748: 'Heat',\n",
    "  1610612749: 'Bucks',\n",
    "  1610612750: 'Timberwolves',\n",
    "  1610612740: 'Pelicans',\n",
    "  1610612752: 'Knicks',\n",
    "  1610612760: 'Thunder',\n",
    "  1610612753: 'Magic',\n",
    "  1610612755: '76ers',\n",
    "  1610612756: 'Suns',\n",
    "  1610612757: 'Trail Blazers',\n",
    "  1610612758: 'Kings',\n",
    "  1610612759: 'Spurs',\n",
    "  1610612761: 'Raptors',\n",
    "  1610612762: 'Jazz',\n",
    "  1610612764: 'Wizards', \n",
    "}\n",
    "\n",
    "tuple_rep_by_game_id = {}\n",
    "for json_file_name, data in boxscore_data_ordered_by_key.iteritems():\n",
    "  game_id = json_file_name.split('.')[0]\n",
    "  traditional_data = boxscore_data[json_file_name]['boxscoretraditionalv2']\n",
    "  away_team_id = None\n",
    "  home_team_id = None\n",
    "  game_date = None\n",
    "  if 'resultSets' in traditional_data:\n",
    "    traditional_results = traditional_data['resultSets']\n",
    "    # first team in list is away, second is home\n",
    "    if len(traditional_results[1]['rowSet']) == 0:\n",
    "      continue\n",
    "    away_team_idx, home_team_idx = home_away_team_indices_by_game_id[game_id]\n",
    "    away_team_id = traditional_results[1]['rowSet'][away_team_idx][1]\n",
    "    home_team_id = traditional_results[1]['rowSet'][home_team_idx][1]\n",
    "  else:\n",
    "    continue\n",
    "  boxscore_summary = boxscore_data[json_file_name]['boxscoresummaryv2']\n",
    "  if 'resultSets' in boxscore_summary:\n",
    "    summary_results = boxscore_summary['resultSets']\n",
    "    if len(summary_results[0]['rowSet']) == 0:\n",
    "      continue\n",
    "    game_date = datetime.datetime.strptime(summary_results[0]['rowSet'][0][0].split('T')[0], '%Y-%m-%d')\n",
    "  tuple_rep_by_game_id[game_id] = (TEAM_ID_TO_NAME[away_team_id], TEAM_ID_TO_NAME[home_team_id], game_date)"
   ]
  },
  {
   "cell_type": "code",
   "execution_count": 17,
   "metadata": {
    "collapsed": true
   },
   "outputs": [],
   "source": [
    "# map game IDs to spreads, game_ids from stats.nba.com should map 1:1 with spreads (1230 elements each)\n",
    "game_ids_2016_2017 = game_ids_by_season['16']\n",
    "spreads_for_2016_2017 = {}\n",
    "for game_id in game_ids_2016_2017:\n",
    "  tuple_rep = tuple_rep_by_game_id[game_id]\n",
    "  spreads_for_2016_2017[game_id] = (bet_data_by_tuple_rep[tuple_rep])"
   ]
  },
  {
   "cell_type": "code",
   "execution_count": 18,
   "metadata": {
    "collapsed": false
   },
   "outputs": [
    {
     "name": "stdout",
     "output_type": "stream",
     "text": [
      "Number of games where either or both teams are playing the first game of the season: 16\n0021600016\n[  47.      98.       0.48    12.      24.       0.5     23.      26.\n    0.885   21.      34.      55.      25.      13.       3.      13.      19.\n  129.      29.     125.9     99.1     26.8      0.532    1.79    16.8\n    0.438    0.81     0.611   13.667    0.541    0.589    0.198  101.68\n    0.6     44.      86.       0.512    6.      21.       0.286   19.      26.\n    0.731   10.      31.      41.      24.       5.       5.      13.      20.\n  113.      19.     111.4     97.      14.4      0.545    1.71    17.7\n    0.244    0.756    0.5     13.801    0.547    0.58     0.198   99.16\n    0.617]\n8.0\n1214\n1214\n0 games in\nWin Percent: 0.504942339374\nLoss Percent: 0.495057660626\nBets placed: 1214\nBets not placed: 0\n\n400 games in\nWin Percent: 0.518427518428\nLoss Percent: 0.481572481572\nBets placed: 814\nBets not placed: 0\n\n800 games in\nWin Percent: 0.538647342995\nLoss Percent: 0.461352657005\nBets placed: 414\nBets not placed: 0\n\n1000 games in\nWin Percent: 0.570093457944\nLoss Percent: 0.429906542056\nBets placed: 214\nBets not placed: 0\n"
     ]
    }
   ],
   "source": [
    "# Evaluation\n",
    "# As a preliminary evaluation run, train on 2000-2016, evaluate on 2016-2017 season\n",
    "feature_vectors_for_2000_2016 = []\n",
    "labels_for_2000_2016 = []\n",
    "game_ids_2016_2017_feat_vectors = []\n",
    "feature_vectors_for_2016_2017 = []\n",
    "labels_for_2016_2017 = []\n",
    "\n",
    "# collect only feature vectors/labels for the 2016 season for training\n",
    "for idx, feature_vector in enumerate(feature_matrix):\n",
    "  game_id = game_ids_for_feat_vectors[idx]\n",
    "  game_season = game_id[3:5]\n",
    "  if game_season == '16':\n",
    "    feature_vectors_for_2016_2017.append(feature_vector)\n",
    "    labels_for_2016_2017.append(labels[idx])\n",
    "    game_ids_2016_2017_feat_vectors.append(game_id)\n",
    "  else:\n",
    "    feature_vectors_for_2000_2016.append(feature_vector)\n",
    "    labels_for_2000_2016.append(labels[idx])\n",
    "\n",
    "feature_matrix_for_2000_2016 = np.asarray(feature_vectors_for_2000_2016)\n",
    "labels_for_2000_2016 = np.asarray(labels_for_2000_2016)\n",
    "# linear regression model for 2000-2016 data\n",
    "regr_2016_2017 = linear_model.LinearRegression()\n",
    "regr_2016_2017.fit(feature_vectors_for_2000_2016, labels_for_2000_2016)\n",
    "\n",
    "feature_matrix_for_2016_2017 = np.asarray(feature_vectors_for_2016_2017)\n",
    "lin_regr_predictions = regr_2016_2017.predict(feature_vectors_for_2016_2017)\n",
    "print 'Number of games where either or both teams are playing the first game of the season: {}'.format(\n",
    "  len(game_ids_by_season['16']) - len(lin_regr_predictions))\n",
    "\n",
    "print game_ids_2016_2017_feat_vectors[0]\n",
    "print feature_matrix_for_2016_2017[0]\n",
    "print labels_for_2016_2017[0]\n",
    "\n",
    "print len(game_ids_2016_2017_feat_vectors)\n",
    "print len(lin_regr_predictions)\n",
    "\n",
    "def evaluate(n_games_in, predictions):\n",
    "  wins = 0.\n",
    "  losses = 0.\n",
    "  bets_not_placed = 0\n",
    "  bets_placed = 0\n",
    "  for idx in range(n_games_in, len(predictions)):\n",
    "    score_delta_prediction = predictions[idx]\n",
    "    game_id = game_ids_2016_2017_feat_vectors[idx]\n",
    "    spread_data = spreads_for_2016_2017[game_id]\n",
    "    actual_score_delta = labels_for_2016_2017[idx]\n",
    "    # need to multiply by -1 because positive predictions mean away team is favorite, but need to convert\n",
    "    # to spread\n",
    "    actual_score_delta = -1 * actual_score_delta\n",
    "    score_delta_prediction = -1 * score_delta_prediction\n",
    "    line = spread_data['line'] # will be in the format -7.5 if away team is favored to win by >=7.5\n",
    "    # away team is favored\n",
    "    # win the game by at least the line\n",
    "    if line < 0 and score_delta_prediction < line:\n",
    "      bets_placed += 1\n",
    "      if actual_score_delta < line:\n",
    "        wins += 1\n",
    "      else:\n",
    "        losses += 1\n",
    "      continue\n",
    "    if line < 0 and score_delta_prediction > line:\n",
    "      bets_placed += 1\n",
    "      if actual_score_delta > line:\n",
    "        wins += 1\n",
    "      else:\n",
    "        losses += 1\n",
    "      continue\n",
    "    # away team is underdog\n",
    "    # lose by less than the line or outright win\n",
    "    if line > 0 and score_delta_prediction > line:\n",
    "      bets_placed += 1\n",
    "      if actual_score_delta > line:\n",
    "        wins += 1\n",
    "      else:\n",
    "        losses += 1\n",
    "      continue\n",
    "    if line > 0 and score_delta_prediction < line:\n",
    "      bets_placed += 1\n",
    "      if actual_score_delta < line:\n",
    "        wins += 1\n",
    "      else:\n",
    "        losses += 1\n",
    "      continue\n",
    "    bets_not_placed += 1\n",
    "  print '{} games in'.format(n_games_in)\n",
    "  print 'Win Percent: {}'.format(wins/bets_placed)\n",
    "  print 'Loss Percent: {}'.format(losses/bets_placed)\n",
    "  print 'Bets placed: {}'.format(bets_placed)\n",
    "  print 'Bets not placed: {}'.format(bets_not_placed)\n",
    "\n",
    "# feature_vector = away stats, home stats\n",
    "# FGM, FGA, FG%, 3PM, 3PA, 3P%, FTM, FTA, FT%, OREB, DREB, REB, AST, STL, BLK, TOV, PF, PTS, PLUSMINUS\n",
    "# label = num points away team won/lost by\n",
    "# predictions will be differential from away team perspective\n",
    "# lines are also from away team perspective (negative line means away team is favored to win by n points)\n",
    "evaluate(0, lin_regr_predictions)\n",
    "print\n",
    "evaluate(400, lin_regr_predictions)\n",
    "print\n",
    "evaluate(800, lin_regr_predictions)\n",
    "print\n",
    "evaluate(1000, lin_regr_predictions)"
   ]
  },
  {
   "cell_type": "code",
   "execution_count": 19,
   "metadata": {
    "collapsed": false
   },
   "outputs": [
    {
     "name": "stdout",
     "output_type": "stream",
     "text": [
      "1214\n1214\n"
     ]
    },
    {
     "data": {
      "text/plain": [
       "<matplotlib.collections.PathCollection at 0x11b897610>"
      ]
     },
     "execution_count": 19,
     "metadata": {},
     "output_type": "execute_result"
    },
    {
     "data": {
      "image/png": "[encoded data removed]",
      "text/plain": [
       "<matplotlib.figure.Figure at 0x106a11f90>"
      ]
     },
     "metadata": {},
     "output_type": "display_data"
    }
   ],
   "source": [
    "# graph errors over the course of season\n",
    "deltas = []\n",
    "for idx, pred in enumerate(lin_regr_predictions):\n",
    "  actual_score_delta = labels_for_2016_2017[idx]\n",
    "  deltas.append(abs(pred-actual_score_delta))\n",
    "print len(deltas)\n",
    "print len(range(0, len(labels_for_2016_2017)))\n",
    "plt.figure(figsize=(8,4))\n",
    "plt.scatter(range(0, len(labels_for_2016_2017)), deltas)"
   ]
  },
  {
   "cell_type": "code",
   "execution_count": 20,
   "metadata": {
    "collapsed": false
   },
   "outputs": [
    {
     "name": "stdout",
     "output_type": "stream",
     "text": [
      "Average delta 0 games in: 10.1195255928\nAverage delta 400 games in: 9.77358319687\nAverage delta 800 games in: 9.9545942752\nAverage delta 1000 games in: 9.67561812041\n"
     ]
    }
   ],
   "source": [
    "avg_0 = 0\n",
    "for i in range(len(deltas)):\n",
    "  avg_0 += deltas[i]\n",
    "print \"Average delta 0 games in: {}\".format(avg_0/len(deltas))\n",
    "avg_400 = 0\n",
    "for i in range(400, len(deltas)):\n",
    "  avg_400 += deltas[i]\n",
    "print \"Average delta 400 games in: {}\".format(avg_400/(len(deltas)-400))\n",
    "avg_800 = 0\n",
    "for i in range(800, len(deltas)):\n",
    "  avg_800 += deltas[i]\n",
    "print \"Average delta 800 games in: {}\".format(avg_800/(len(deltas)-800))\n",
    "avg_1000 = 0\n",
    "for i in range(1000, len(deltas)):\n",
    "  avg_1000 += deltas[i]\n",
    "print \"Average delta 1000 games in: {}\".format(avg_1000/(len(deltas)-1000))"
   ]
  },
  {
   "cell_type": "code",
   "execution_count": 21,
   "metadata": {
    "collapsed": false
   },
   "outputs": [
    {
     "name": "stdout",
     "output_type": "stream",
     "text": [
      "Average delta between games 600 to 800: 10.4003524929\nAverage delta between games 800 to 1000: 10.2530987608\nAverage delta between games 1000 to end: 9.67561812041\n"
     ]
    }
   ],
   "source": [
    "avg_600_800 = 0\n",
    "for i in range(600, 800):\n",
    "  avg_600_800 += deltas[i]\n",
    "print \"Average delta between games 600 to 800: {}\".format(avg_600_800/200)\n",
    "avg_800_1000 = 0\n",
    "for i in range(800, 1000):\n",
    "  avg_800_1000 += deltas[i]\n",
    "print \"Average delta between games 800 to 1000: {}\".format(avg_800_1000/200)\n",
    "avg_1000_end = 0\n",
    "for i in range(1000, len(deltas)):\n",
    "  avg_1000_end += deltas[i]\n",
    "print \"Average delta between games 1000 to end: {}\".format(avg_1000_end/(len(deltas) - 1000))"
   ]
  },
  {
   "cell_type": "code",
   "execution_count": 22,
   "metadata": {
    "collapsed": false
   },
   "outputs": [
    {
     "data": {
      "text/plain": [
       "<matplotlib.collections.PathCollection at 0x11d2a3d50>"
      ]
     },
     "execution_count": 22,
     "metadata": {},
     "output_type": "execute_result"
    },
    {
     "data": {
      "image/png": "[encoded data removed]",
      "text/plain": [
       "<matplotlib.figure.Figure at 0x111da3690>"
      ]
     },
     "metadata": {},
     "output_type": "display_data"
    }
   ],
   "source": [
    "import matplotlib.ticker as mticks\n",
    "\n",
    "plt.figure(figsize=(20,4))\n",
    "plt.scatter(range(0, len(labels_for_2016_2017)), deltas)"
   ]
  },
  {
   "cell_type": "code",
   "execution_count": 23,
   "metadata": {
    "collapsed": false
   },
   "outputs": [
    {
     "name": "stdout",
     "output_type": "stream",
     "text": [
      "Classification rate: 0.631795716639\n"
     ]
    }
   ],
   "source": [
    "# Evaluate the classification case, do we at least predict the outcomes correctly?\n",
    "correct_classifications = 0.\n",
    "for idx in range(0, len(lin_regr_predictions)):\n",
    "  pred = lin_regr_predictions[idx]\n",
    "  actual_score_delta = labels_for_2016_2017[idx]\n",
    "  # if in the same direction\n",
    "  if pred * actual_score_delta > 0:\n",
    "    correct_classifications += 1\n",
    "print \"Classification rate: {}\".format(correct_classifications/(len(lin_regr_predictions)))"
   ]
  },
  {
   "cell_type": "code",
   "execution_count": 24,
   "metadata": {
    "collapsed": false
   },
   "outputs": [
    {
     "data": {
      "text/plain": [
       "array([  5.42905255e+12,  -3.37402344e-01,  -4.13618164e+01,\n         2.71452627e+12,   4.58862305e-01,   8.45556641e+00,\n         2.71452627e+12,  -2.51464844e-01,   4.34472656e+00,\n        -1.52107145e+12,  -1.52107145e+12,   1.52107145e+12,\n         1.98901367e+00,   1.09725952e-01,   2.04711914e-01,\n        -1.10675049e+00,  -9.35058594e-02,  -2.71452627e+12,\n         2.56072998e-01,  -3.68286133e+00,   4.03466797e+00,\n         4.26635742e+00,   3.84643021e+01,   1.55761719e+00,\n        -4.71740723e+00,  -3.06165695e+00,   2.86915561e+01,\n        -2.19095969e+01,   1.18478394e+00,   1.00925640e+02,\n        -7.76639690e+01,   1.18410107e+03,  -1.97021484e-01,\n         1.78751326e+00,   2.70244802e+12,   3.68408203e-01,\n         2.10816316e+02,   1.35122401e+12,   3.24096680e-02,\n         1.46225240e+01,   1.35122401e+12,  -7.69165039e-01,\n        -1.07322474e+01,  -6.83138333e+12,  -6.83138333e+12,\n         6.83138333e+12,  -2.78933716e+00,  -2.75360107e-01,\n        -4.07234192e-01,  -8.23791504e-01,   4.18090820e-03,\n        -1.35122401e+12,  -8.29345703e-01,  -2.60095215e+00,\n         9.76928711e-01,   1.28735352e+00,   4.70734062e+01,\n        -3.15580750e+00,   2.39215088e+00,   1.01933145e+02,\n         1.59429789e+01,  -8.98111305e+01,  -6.65618896e-01,\n        -4.21148977e+01,   1.03659020e+02,  -1.81483811e+02,\n         4.32128906e-02,  -9.79969025e-01])"
      ]
     },
     "execution_count": 24,
     "metadata": {},
     "output_type": "execute_result"
    }
   ],
   "source": [
    "regr_2016_2017.coef_"
   ]
  },
  {
   "cell_type": "code",
   "execution_count": 25,
   "metadata": {
    "collapsed": false
   },
   "outputs": [
    {
     "name": "stdout",
     "output_type": "stream",
     "text": [
      "R^2: 0.156041658259\n"
     ]
    }
   ],
   "source": [
    "print \"R^2: {}\".format(regr_2016_2017.score(feature_vectors_for_2000_2016, labels_for_2000_2016))"
   ]
  },
  {
   "cell_type": "code",
   "execution_count": 26,
   "metadata": {
    "collapsed": false
   },
   "outputs": [
    {
     "name": "stdout",
     "output_type": "stream",
     "text": [
      "0 games in\nWin Percent: 0.503294892916\nLoss Percent: 0.496705107084\nBets placed: 1214\nBets not placed: 0\n\n400 games in\nWin Percent: 0.52457002457\nLoss Percent: 0.47542997543\nBets placed: 814\nBets not placed: 0\n\n800 games in\nWin Percent: 0.536231884058\nLoss Percent: 0.463768115942\nBets placed: 414\nBets not placed: 0\n\n1000 games in\nWin Percent: 0.570093457944\nLoss Percent: 0.429906542056\nBets placed: 214\nBets not placed: 0\n"
     ]
    }
   ],
   "source": [
    "# Train a multi-layer perceptron\n",
    "mlp_regr = MLPRegressor(hidden_layer_sizes=3, solver='lbfgs')\n",
    "mlp_regr.fit(feature_vectors_for_2000_2016, labels_for_2000_2016)\n",
    "mlp_regr_predictions = mlp_regr.predict(feature_vectors_for_2016_2017)\n",
    "\n",
    "evaluate(0, mlp_regr_predictions)\n",
    "print\n",
    "evaluate(400, mlp_regr_predictions)\n",
    "print\n",
    "evaluate(800, mlp_regr_predictions)\n",
    "print\n",
    "evaluate(1000, mlp_regr_predictions)"
   ]
  },
  {
   "cell_type": "code",
   "execution_count": 27,
   "metadata": {
    "collapsed": false
   },
   "outputs": [
    {
     "name": "stdout",
     "output_type": "stream",
     "text": [
      "0 games in\nWin Percent: 0.523064250412\nLoss Percent: 0.476935749588\nBets placed: 1214\nBets not placed: 0\n\n400 games in\nWin Percent: 0.539312039312\nLoss Percent: 0.460687960688\nBets placed: 814\nBets not placed: 0\n\n800 games in\nWin Percent: 0.557971014493\nLoss Percent: 0.442028985507\nBets placed: 414\nBets not placed: 0\n\n1000 games in\nWin Percent: 0.588785046729\nLoss Percent: 0.411214953271\nBets placed: 214\nBets not placed: 0\n\n"
     ]
    }
   ],
   "source": [
    "# Lasso Regression\n",
    "lasso_reg = linear_model.Lasso(alpha = 0.1)\n",
    "lasso_reg.fit(feature_vectors_for_2000_2016, labels_for_2000_2016)\n",
    "lasso_reg_predictions = lasso_reg.predict(feature_vectors_for_2016_2017)\n",
    "\n",
    "for games_in in [0, 400, 800, 1000]:\n",
    "  evaluate(games_in, lasso_reg_predictions)\n",
    "  print"
   ]
  },
  {
   "cell_type": "code",
   "execution_count": 28,
   "metadata": {},
   "outputs": [],
   "source": [
    "# Check Fivethirtyeight's win/loss prediction and evaluate their spreads\n",
    "f = open('prediction/fivethirtyeight_predictions_2016_17')\n",
    "fte_predictions_2016_17 = eval(f.read())"
   ]
  },
  {
   "cell_type": "code",
   "execution_count": 40,
   "metadata": {},
   "outputs": [
    {
     "name": "stdout",
     "output_type": "stream",
     "text": [
      "1230\nFivethirtyeight's prediction for the last game of the 2016-17 season:\n{'status': 'post', 'carmelo2_pre': 1397.87549044154, 'score2': 95, 'carmelo_spread': -13.5, 'team1': 'LAC', 'team2': 'SAC', 'carmelo2_post': 1395.38097896773, 'neutral': '!1', 'carmelo1_post': 1640.31618385186, 'score1': 115, 'time_et': '22:30', 'carmelo1_pre': 1637.82167237805, 'date': '2017-04-12', 'carmelo_prob1': 0.9005413202718072, 'playoff': None, 'id': 400900606, 'carmelo_prob2': 0.09945867972819278}\n"
     ]
    }
   ],
   "source": [
    "fte_predictions_reg_season = []\n",
    "for fte_pred in fte_predictions_2016_17:\n",
    "  if not fte_pred['playoff']:\n",
    "    fte_predictions_reg_season.append(fte_pred)\n",
    "print len(fte_predictions_reg_season)\n",
    "print \"Fivethirtyeight's prediction for the last game of the 2016-17 season:\"\n",
    "print fte_predictions_reg_season[-1]"
   ]
  },
  {
   "cell_type": "code",
   "execution_count": 43,
   "metadata": {},
   "outputs": [
    {
     "name": "stdout",
     "output_type": "stream",
     "text": [
      "Fivethirtyeight Classification Rate: 0.649593495935\n"
     ]
    }
   ],
   "source": [
    "# evaluate 538's win/loss rate\n",
    "correct_classifications_538 = 0.\n",
    "for fte_pred in fte_predictions_reg_season:\n",
    "  score1 = fte_pred['score1']\n",
    "  score2 = fte_pred['score2']\n",
    "  win_prob_team1 = fte_pred['carmelo_prob1']\n",
    "  win_prob_team2 = fte_pred['carmelo_prob2']\n",
    "  \n",
    "  if win_prob_team1 > win_prob_team2:\n",
    "    if score1 > score2:\n",
    "      correct_classifications_538 += 1\n",
    "  else:\n",
    "    if score2 > score1:\n",
    "      correct_classifications_538 += 1\n",
    "\n",
    "print \"Fivethirtyeight Classification Rate: {}\".format(correct_classifications_538/len(fte_predictions_reg_season))"
   ]
  }
 ],
 "metadata": {
  "anaconda-cloud": {},
  "kernelspec": {
   "display_name": "Python [default]",
   "language": "python",
   "name": "python2"
  },
  "language_info": {
   "codemirror_mode": {
    "name": "ipython",
    "version": 2.0
   },
   "file_extension": ".py",
   "mimetype": "text/x-python",
   "name": "python",
   "nbconvert_exporter": "python",
   "pygments_lexer": "ipython2",
   "version": "2.7.12"
  }
 },
 "nbformat": 4,
 "nbformat_minor": 0
}